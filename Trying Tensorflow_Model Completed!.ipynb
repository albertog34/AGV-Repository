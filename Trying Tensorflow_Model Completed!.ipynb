{
 "cells": [
  {
   "cell_type": "code",
   "execution_count": 4,
   "id": "524b2186",
   "metadata": {},
   "outputs": [],
   "source": [
    "from sklearn.datasets import fetch_california_housing\n",
    "from sklearn.model_selection import train_test_split\n",
    "import pandas as pd\n",
    "\n",
    "california_housing = fetch_california_housing(as_frame=True)\n",
    "dataset=california_housing.frame\n",
    "\n",
    "X=dataset[[\"MedInc\",\"HouseAge\",\"AveRooms\",\"AveBedrms\",\"Population\",\"AveOccup\"]]\n",
    "y=dataset[\"MedHouseVal\"]\n",
    "\n",
    "# Dividing the model between train and test\n",
    "\n",
    "X_train,X_test,y_train,y_test=train_test_split(X,y,test_size=0.3)"
   ]
  },
  {
   "cell_type": "code",
   "execution_count": 8,
   "id": "c6e9fcaf",
   "metadata": {},
   "outputs": [
    {
     "name": "stdout",
     "output_type": "stream",
     "text": [
      "Entrenando modelo...\n",
      "Modelo entrenado!\n"
     ]
    }
   ],
   "source": [
    "import tensorflow as tf\n",
    "from tensorflow.keras.models import Sequential, load_model\n",
    "from tensorflow.keras.layers import Dense\n",
    "from sklearn.metrics import accuracy_score\n",
    "\n",
    "model=Sequential()\n",
    "model.add(Dense(units=10,input_dim=len(X_train.columns)))\n",
    "model.add(Dense(units=10))\n",
    "model.add(Dense(units=1))\n",
    "\n",
    "model.compile(optimizer=tf.keras.optimizers.Adam(0.05),loss=\"mean_squared_error\")\n",
    "        \n",
    "print(\"Entrenando modelo...\")\n",
    "training=model.fit(X_train,y_train,epochs=1000,verbose=False)\n",
    "print(\"Modelo entrenado!\")"
   ]
  },
  {
   "cell_type": "code",
   "execution_count": 9,
   "id": "f3be6be7",
   "metadata": {},
   "outputs": [
    {
     "data": {
      "text/plain": [
       "[<matplotlib.lines.Line2D at 0x1b8d3a223a0>]"
      ]
     },
     "execution_count": 9,
     "metadata": {},
     "output_type": "execute_result"
    },
    {
     "data": {
      "image/png": "[encoded data removed]",
      "text/plain": [
       "<Figure size 432x288 with 1 Axes>"
      ]
     },
     "metadata": {
      "needs_background": "light"
     },
     "output_type": "display_data"
    }
   ],
   "source": [
    "import matplotlib.pyplot as plt\n",
    "plt.xlabel(\"Epoca\")\n",
    "plt.ylabel(\"Magnitud de pérdida\")\n",
    "plt.plot(training.history[\"loss\"])"
   ]
  },
  {
   "cell_type": "code",
   "execution_count": 10,
   "id": "a6430353",
   "metadata": {
    "scrolled": true
   },
   "outputs": [
    {
     "name": "stdout",
     "output_type": "stream",
     "text": [
      "194/194 [==============================] - 0s 482us/step - loss: 0.8173\n",
      "0.8173176646232605\n"
     ]
    }
   ],
   "source": [
    "print(model.evaluate(X_test,y_test))"
   ]
  },
  {
   "cell_type": "code",
   "execution_count": 49,
   "id": "5438e41f",
   "metadata": {},
   "outputs": [
    {
     "name": "stdout",
     "output_type": "stream",
     "text": [
      "194/194 [==============================] - 0s 446us/step\n"
     ]
    },
    {
     "data": {
      "text/plain": [
       "0.67"
      ]
     },
     "execution_count": 49,
     "metadata": {},
     "output_type": "execute_result"
    }
   ],
   "source": [
    "comparison=y_test.to_frame()\n",
    "predicted_values=model.predict(X_test)\n",
    "predicted_values=predicted_values.tolist()\n",
    "predicted_values_numbers=[]\n",
    "\n",
    "for i in predicted_values:\n",
    "    predicted_values_numbers.append(i[0])\n",
    "\n",
    "comparison[\"Predicted\"]=predicted_values_numbers\n",
    "comparison\n",
    "\n",
    "comparison[\"Effectiveness\"]=round(1-((abs(comparison[\"Predicted\"]-comparison[\"MedHouseVal\"])/comparison[\"Predicted\"])),2)\n",
    "round(comparison[\"Effectiveness\"].mean(),2)\n"
   ]
  }
 ],
 "metadata": {
  "kernelspec": {
   "display_name": "Python 3 (ipykernel)",
   "language": "python",
   "name": "python3"
  },
  "language_info": {
   "codemirror_mode": {
    "name": "ipython",
    "version": 3
   },
   "file_extension": ".py",
   "mimetype": "text/x-python",
   "name": "python",
   "nbconvert_exporter": "python",
   "pygments_lexer": "ipython3",
   "version": "3.9.7"
  }
 },
 "nbformat": 4,
 "nbformat_minor": 5
}
